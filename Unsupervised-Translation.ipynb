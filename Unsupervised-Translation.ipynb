{
 "cells": [
  {
   "cell_type": "code",
   "execution_count": 1,
   "metadata": {},
   "outputs": [
    {
     "name": "stderr",
     "output_type": "stream",
     "text": [
      "Using TensorFlow backend.\n"
     ]
    }
   ],
   "source": [
    "import utils\n",
    "import os\n",
    "import keras\n",
    "import numpy as np\n",
    "import operator\n",
    "import tensorflow as tf\n",
    "\n",
    "from keras.preprocessing.text import Tokenizer"
   ]
  },
  {
   "cell_type": "code",
   "execution_count": 20,
   "metadata": {},
   "outputs": [
    {
     "data": {
      "text/plain": [
       "\"\\nextract_n_words = 1000000\\n# Convert the FastText pretrained vectors to binary format\\n# Binary format speed up model loading considerably\\ncvt_fname = 'wiki_1M'\\n\\nvector_dir = 'vectors/wiki.fr'\\nfname = 'wiki.fr.vec'\\n\\nutils.convert_vectors(vector_dir, fname, extract_n_words, cvt_fname)\\n\\nvector_dir = 'vectors/wiki.zh'\\nfname = 'wiki.zh.vec'\\n\\nutils.convert_vectors(vector_dir, fname, extract_n_words, cvt_fname)\\n\\nvector_dir = 'vectors/wiki.en'\\nfname = 'wiki.en.vec'\\n\\nutils.convert_vectors(vector_dir, fname, extract_n_words, cvt_fname)\\n\""
      ]
     },
     "execution_count": 20,
     "metadata": {},
     "output_type": "execute_result"
    }
   ],
   "source": [
    "\"\"\"\n",
    "extract_n_words = 1000000\n",
    "# Convert the FastText pretrained vectors to binary format\n",
    "# Binary format speed up model loading considerably\n",
    "cvt_fname = 'wiki_1M'\n",
    "\n",
    "vector_dir = 'vectors/wiki.fr'\n",
    "fname = 'wiki.fr.vec'\n",
    "\n",
    "utils.convert_vectors(vector_dir, fname, extract_n_words, cvt_fname)\n",
    "\n",
    "vector_dir = 'vectors/wiki.zh'\n",
    "fname = 'wiki.zh.vec'\n",
    "\n",
    "utils.convert_vectors(vector_dir, fname, extract_n_words, cvt_fname)\n",
    "\n",
    "vector_dir = 'vectors/wiki.en'\n",
    "fname = 'wiki.en.vec'\n",
    "\n",
    "utils.convert_vectors(vector_dir, fname, extract_n_words, cvt_fname)\n",
    "\"\"\""
   ]
  },
  {
   "cell_type": "code",
   "execution_count": 2,
   "metadata": {},
   "outputs": [
    {
     "name": "stderr",
     "output_type": "stream",
     "text": [
      "INFO:utils:Imported 1000000 words pretrained vector\n"
     ]
    }
   ],
   "source": [
    "vector_dir = 'vectors/wiki.fr'\n",
    "fr_model = utils.load_vectors(os.path.join(vector_dir, 'wiki_1M.fr.bin'), binary = True)"
   ]
  },
  {
   "cell_type": "code",
   "execution_count": 3,
   "metadata": {},
   "outputs": [
    {
     "name": "stderr",
     "output_type": "stream",
     "text": [
      "INFO:utils:Imported 1000000 words pretrained vector\n"
     ]
    }
   ],
   "source": [
    "vector_dir = 'vectors/wiki.en'\n",
    "en_model = utils.load_vectors(os.path.join(vector_dir, 'wiki_1M.en.bin'), binary = True)"
   ]
  },
  {
   "cell_type": "code",
   "execution_count": 144,
   "metadata": {},
   "outputs": [
    {
     "name": "stderr",
     "output_type": "stream",
     "text": [
      "INFO:utils:Number of words in the corpus: 367335\n",
      "INFO:utils:Number of corpus words in the word2vec model: 143819\n"
     ]
    }
   ],
   "source": [
    "nb_words = 10000\n",
    "embedding_dim = 300\n",
    "en_embedding, en_word2idx = utils.pretrained_embeddings('global-voices-2017q3.en', en_model, nb_words, embedding_dim)"
   ]
  },
  {
   "cell_type": "code",
   "execution_count": 145,
   "metadata": {},
   "outputs": [
    {
     "name": "stderr",
     "output_type": "stream",
     "text": [
      "INFO:utils:Number of words in the corpus: 217462\n",
      "INFO:utils:Number of corpus words in the word2vec model: 111760\n"
     ]
    }
   ],
   "source": [
    "fr_embedding, fr_word2idx = utils.pretrained_embeddings('global-voices-2017q3.fr', fr_model, nb_words, embedding_dim)"
   ]
  },
  {
   "cell_type": "markdown",
   "metadata": {},
   "source": [
    "## GAN Architecture"
   ]
  },
  {
   "cell_type": "code",
   "execution_count": 146,
   "metadata": {
    "collapsed": true
   },
   "outputs": [],
   "source": [
    "# Model Inputs\n",
    "def model_inputs(embedding_dim):\n",
    "    source_embedding = tf.placeholder(tf.float32, (None, embedding_dim))\n",
    "    target_embedding = tf.placeholder(tf.float32, (None, embedding_dim))\n",
    "    return source_embedding, target_embedding"
   ]
  },
  {
   "cell_type": "code",
   "execution_count": 147,
   "metadata": {
    "collapsed": true
   },
   "outputs": [],
   "source": [
    "def generator(source_embedding, embedding_dim, reuse = False):\n",
    "    with tf.variable_scope('generator', reuse=reuse):\n",
    "        #embedding_dim = int(source_embedding.get_shape()[1])\n",
    "        translation_mat = tf.Variable(initial_value=tf.truncated_normal(shape = (embedding_dim, embedding_dim), stddev = 0.05))\n",
    "        translation = tf.matmul(source_embedding, translation_mat)\n",
    "\n",
    "    return translation"
   ]
  },
  {
   "cell_type": "code",
   "execution_count": 148,
   "metadata": {
    "collapsed": true
   },
   "outputs": [],
   "source": [
    "# Discriminator\n",
    "def discriminator(x, n_units = 2048, reuse = False, alpha = 0.01):\n",
    "    with tf.variable_scope('discriminator', reuse = reuse):\n",
    "        # First hidden unit\n",
    "        h1 = tf.layers.dense(x, n_units, activation = None)\n",
    "        # Leaky ReLU\n",
    "        h1 = tf.maximum(h1 * alpha, h1)\n",
    "\n",
    "        # Second hidden unit\n",
    "        h2 = tf.layers.dense(h1, n_units, activation = None)\n",
    "        # Leaky ReLU\n",
    "        h2 = tf.maximum(h2 * alpha, h2)\n",
    "\n",
    "        # Output\n",
    "        logits = tf.layers.dense(h2, 1, activation = None)\n",
    "        out = tf.sigmoid(logits)    \n",
    "    return out, logits"
   ]
  },
  {
   "cell_type": "code",
   "execution_count": 149,
   "metadata": {
    "collapsed": true
   },
   "outputs": [],
   "source": [
    "# Leak factor for leaky ReLU\n",
    "alpha = 0.01\n",
    "# Smoothing \n",
    "smooth = 0.2"
   ]
  },
  {
   "cell_type": "code",
   "execution_count": 150,
   "metadata": {},
   "outputs": [],
   "source": [
    "tf.reset_default_graph()\n",
    "# Create our input placeholders\n",
    "source_embedding, target_embedding = model_inputs(embedding_dim)\n",
    "\n",
    "# Build the model\n",
    "g_embedding = generator(source_embedding, embedding_dim)\n",
    "\n",
    "d_model_real, d_logits_real = discriminator(target_embedding, n_units=2048, alpha=alpha)\n",
    "d_model_fake, d_logits_fake = discriminator(g_embedding, reuse=True, n_units=2048, alpha=alpha)"
   ]
  },
  {
   "cell_type": "code",
   "execution_count": 151,
   "metadata": {},
   "outputs": [],
   "source": [
    "# Calculate losses\n",
    "d_loss_real = tf.reduce_mean(\n",
    "                  tf.nn.sigmoid_cross_entropy_with_logits(logits=d_logits_real, \n",
    "                                                          labels=tf.ones_like(d_logits_real) * (1 - smooth)))\n",
    "d_loss_fake = tf.reduce_mean(\n",
    "                  tf.nn.sigmoid_cross_entropy_with_logits(logits=d_logits_fake, \n",
    "                                                          labels=tf.zeros_like(d_logits_real)))\n",
    "d_loss = d_loss_real + d_loss_fake\n",
    "\n",
    "g_loss = tf.reduce_mean(\n",
    "             tf.nn.sigmoid_cross_entropy_with_logits(logits=d_logits_fake,\n",
    "                                                     labels=tf.ones_like(d_logits_fake)))"
   ]
  },
  {
   "cell_type": "code",
   "execution_count": 152,
   "metadata": {},
   "outputs": [],
   "source": [
    "# Optimizers\n",
    "learning_rate = 0.002\n",
    "\n",
    "# Get the trainable_variables, split into G and D parts\n",
    "t_vars = tf.trainable_variables()\n",
    "g_vars = [var for var in t_vars if var.name.startswith('generator')]\n",
    "d_vars = [var for var in t_vars if var.name.startswith('discriminator')]\n",
    "\n",
    "d_train_opt = tf.train.AdamOptimizer(learning_rate).minimize(d_loss, var_list=d_vars)\n",
    "g_train_opt = tf.train.AdamOptimizer(learning_rate).minimize(g_loss, var_list=g_vars)"
   ]
  },
  {
   "cell_type": "code",
   "execution_count": 158,
   "metadata": {},
   "outputs": [
    {
     "name": "stdout",
     "output_type": "stream",
     "text": [
      "Epoch 1/5... Discriminator Loss: 0.6212... Generator Loss: 4.6360\n",
      "Epoch 2/5... Discriminator Loss: 0.5204... Generator Loss: 38.9910\n",
      "Epoch 3/5... Discriminator Loss: 0.5367... Generator Loss: 28.3164\n",
      "Epoch 4/5... Discriminator Loss: 0.5016... Generator Loss: 13.5128\n",
      "Epoch 5/5... Discriminator Loss: 0.5010... Generator Loss: 10.7074\n"
     ]
    }
   ],
   "source": [
    "batch_size = 100\n",
    "epochs = 5\n",
    "embedding_samples = []\n",
    "losses = []\n",
    "# Only save generator variables\n",
    "saver = tf.train.Saver(var_list=g_vars)\n",
    "with tf.Session() as sess:\n",
    "    sess.run(tf.global_variables_initializer())\n",
    "    for e in range(epochs):\n",
    "        # create an index of the words to train\n",
    "        sample = np.arange(0, nb_words, 1)\n",
    "        np.random.shuffle(sample)\n",
    "        sample = sample.reshape(-1, batch_size)\n",
    "        for i in range(nb_words//batch_size):\n",
    "            batch_idx = sample[i]\n",
    "            batch_source = en_embedding[batch_idx]\n",
    "            batch_target = fr_embedding[batch_idx]\n",
    "            \n",
    "            # Run optimizers\n",
    "            _ = sess.run(d_train_opt, feed_dict={source_embedding: batch_source, target_embedding: batch_target})\n",
    "            _ = sess.run(g_train_opt, feed_dict={source_embedding: batch_source})\n",
    "        \n",
    "        # At the end of each epoch, get the losses and print them out\n",
    "        train_loss_d = sess.run(d_loss, {source_embedding: batch_source, target_embedding: batch_target})\n",
    "        train_loss_g = g_loss.eval({source_embedding: batch_source})\n",
    "            \n",
    "        print(\"Epoch {}/{}...\".format(e+1, epochs),\n",
    "              \"Discriminator Loss: {:.4f}...\".format(train_loss_d),\n",
    "              \"Generator Loss: {:.4f}\".format(train_loss_g))    \n",
    "        # Save losses to view after training\n",
    "        losses.append((train_loss_d, train_loss_g))\n",
    "        \n",
    "        # Sample from generator as we're training for viewing afterwards\n",
    "        \n",
    "        gen_embeddings = sess.run(g_embedding,\n",
    "                                  feed_dict={source_embedding: en_embedding})\n",
    "        embedding_samples.append(gen_embeddings)\n",
    "        saver.save(sess, './checkpoints/generator.ckpt')\n",
    "\n",
    "# Save training generator samples\n",
    "#with open('train_samples.pkl', 'wb') as f:\n",
    "#    pkl.dump(embedding_samples, f)"
   ]
  },
  {
   "cell_type": "code",
   "execution_count": 159,
   "metadata": {
    "collapsed": true
   },
   "outputs": [],
   "source": [
    "def euclidean_dist_neighbor(x, y, k):\n",
    "    dist = np.sum((x - y)**2, axis = 1)\n",
    "    return np.argsort(dist)[:k]"
   ]
  },
  {
   "cell_type": "code",
   "execution_count": 160,
   "metadata": {
    "collapsed": true
   },
   "outputs": [],
   "source": [
    "fr_idx2word = {i: word for word, i in fr_word2idx.items()}"
   ]
  },
  {
   "cell_type": "code",
   "execution_count": 170,
   "metadata": {},
   "outputs": [
    {
     "name": "stdout",
     "output_type": "stream",
     "text": [
      "treaty: ['traite']\n",
      "work: ['traite', 'travail']\n",
      "treaty: ['travail']\n",
      "work: ['travail']\n",
      "treaty: []\n",
      "work: []\n",
      "treaty: ['traite']\n",
      "work: ['traite', 'travail']\n",
      "treaty: []\n",
      "work: []\n"
     ]
    }
   ],
   "source": [
    "en_words = ['treaty', 'work']\n",
    "fr_words = ['traite','travail']\n",
    "for embedding in embedding_samples:\n",
    "    #print('Iteration {}'.format(i+1))\n",
    "    for word in en_words:\n",
    "        idx = en_word2idx[word]\n",
    "        gen_word_vec = embedding[idx]\n",
    "\n",
    "        translation_idx = euclidean_dist_neighbor(gen_word_vec, fr_embedding, 3000)\n",
    "\n",
    "        translations = [fr_idx2word[idx] for idx in translation_idx if fr_idx2word[idx] in fr_words]\n",
    "        \n",
    "        print('{}: {}'.format(word, translations))"
   ]
  },
  {
   "cell_type": "code",
   "execution_count": null,
   "metadata": {
    "collapsed": true
   },
   "outputs": [],
   "source": []
  }
 ],
 "metadata": {
  "kernelspec": {
   "display_name": "Python 3",
   "language": "python",
   "name": "python3"
  },
  "language_info": {
   "codemirror_mode": {
    "name": "ipython",
    "version": 3
   },
   "file_extension": ".py",
   "mimetype": "text/x-python",
   "name": "python",
   "nbconvert_exporter": "python",
   "pygments_lexer": "ipython3",
   "version": "3.5.4"
  }
 },
 "nbformat": 4,
 "nbformat_minor": 1
}
